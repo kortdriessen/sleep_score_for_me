{
 "cells": [
  {
   "cell_type": "markdown",
   "metadata": {},
   "source": [
    "# Artifact Rejection Attempt #2"
   ]
  },
  {
   "cell_type": "code",
   "execution_count": 1,
   "metadata": {},
   "outputs": [],
   "source": [
    "%matplotlib widget\n",
    "%reload_ext autoreload\n",
    "%autoreload 2\n",
    "\n",
    "import numpy as np\n",
    "import scipy\n",
    "import pandas as pd\n",
    "import tdt\n",
    "from pathlib import Path\n",
    "import matplotlib.pyplot as plt\n",
    "import seaborn as sns\n",
    "from sklearn.decomposition import PCA\n",
    "\n",
    "import hypnogram as hp\n",
    "import kd_analysis.main.kd_utils as kd\n",
    "import kd_analysis.main.kd_plotting as kp\n",
    "import neurodsp.plts.utils as dspu\n",
    "import sleep_score_for_me.v1.ssfm_v1 as ss\n",
    "import sleep_score_for_me.utils.ssfm_utils as ssu\n",
    "\n",
    "import adtk\n",
    "from adtk.detector import GeneralizedESDTestAD\n",
    "from adtk.visualization import plot\n",
    "\n",
    "bp_def = dict(delta=(1.5, 4), theta=(4, 8), sigma = (11, 16), beta = (13, 20), low_gamma = (40, 55), high_gamma = (65, 80), omega=(300, 700))\n",
    "\n",
    "kd_ref = {}\n",
    "kd_ref['echans'] = [1,2]\n",
    "kd_ref['fchans']=[1,2,3,4,5,6,7,8,9,10,11,12,13,14,15,16]\n",
    "kd_ref['analysis_root'] = Path('/Volumes/paxilline/Data/paxilline_project_materials/PAX_7/PAX_7_analysis_data')\n",
    "kd_ref['tank_root'] = Path('/Volumes/paxilline/Data/PAX_7/PAX_7_TANK')"
   ]
  },
  {
   "cell_type": "code",
   "execution_count": null,
   "metadata": {},
   "outputs": [],
   "source": [
    "# Might want these things eventually...\n",
    "ssfm['ebp_pd'] = kd.get_bp_set2(ssfm['espg'], bands=bp_def, pandas=True)\n",
    "ssfm['ebp'] = kd.get_bp_set2(ssfm['espg'], bands=bp_def, pandas=False)"
   ]
  },
  {
   "cell_type": "code",
   "execution_count": 7,
   "metadata": {},
   "outputs": [],
   "source": [
    "# Standard test dataset for SSFM:\n",
    "data_path = '/Volumes/paxilline/Data/PAX_7/PAX_7_TANK/PAX_7-dmso-bl'\n",
    "art = {}\n"
   ]
  },
  {
   "cell_type": "code",
   "execution_count": 8,
   "metadata": {},
   "outputs": [
    {
     "name": "stdout",
     "output_type": "stream",
     "text": [
      "read from t=0s to t=7502.02s\n",
      "Using 1525.8789 Hz as SEV sampling rate for EEGr\n",
      "Remember to save all data in xset-style dictionary, and to add experiment name key (key = \"name\") before using save_xset\n",
      "read from t=0s to t=7502.02s\n",
      "Using 1525.8789 Hz as SEV sampling rate for EEGr\n",
      "Remember to save all data in xset-style dictionary, and to add experiment name key (key = \"name\") before using save_xset\n",
      "read from t=0s to t=7502.02s\n",
      "Remember to save all data in xset-style dictionary, and to add experiment name key (key = \"name\") before using save_xset\n",
      "read from t=0s to t=7502.02s\n",
      "Remember to save all data in xset-style dictionary, and to add experiment name key (key = \"name\") before using save_xset\n",
      "read from t=0s to t=7502.02s\n",
      "Using 3051.7578 Hz as SEV sampling rate for LFP_\n",
      "Remember to save all data in xset-style dictionary, and to add experiment name key (key = \"name\") before using save_xset\n",
      "read from t=0s to t=7502.02s\n",
      "Using 3051.7578 Hz as SEV sampling rate for LFP_\n",
      "Remember to save all data in xset-style dictionary, and to add experiment name key (key = \"name\") before using save_xset\n"
     ]
    }
   ],
   "source": [
    "art['e'], art['espg'] = kd.get_data_spg(data_path, store='EEGr', t1=0, t2=7200, channel=kd_ref['echans'], window_length=5, overlap=1)\n",
    "art['e.pd'], art['espg.pd'] = kd.get_data_spg(data_path, store='EEGr', t1=0, t2=7200, channel=kd_ref['echans'], window_length=5, overlap=1, pandas=True)\n",
    "\n",
    "art['m'], art['mspg'] = kd.get_data_spg(data_path, store='EMGr', t1=0, t2=7200, channel=[1,2], window_length=5, overlap=1)\n",
    "art['m.pd'], art['mspg.pd'] = kd.get_data_spg(data_path, store='EMGr', t1=0, t2=7200, channel=[1,2], window_length=5, overlap=1, pandas=True)\n",
    "\n",
    "art['f'], art['fspg'] = kd.get_data_spg(data_path, store='LFP_', t1=0, t2=7200, channel=kd_ref['fchans'], window_length=5, overlap=1)\n",
    "art['f.pd'], art['fspg.pd'] = kd.get_data_spg(data_path, store='LFP_', t1=0, t2=7200, channel=kd_ref['fchans'], window_length=5, overlap=1, pandas=True)"
   ]
  },
  {
   "cell_type": "code",
   "execution_count": 11,
   "metadata": {},
   "outputs": [],
   "source": [
    "hyp_yaml = \"N:\\Data\\paxilline_project_materials\\pax-hypno-paths.yaml\"\n",
    "subject = \"PAX_7\"\n",
    "exp = \"exp-2\"\n",
    "p_2h = \"/Volumes/paxilline/Data//paxilline_project_materials/PAX_7/hypnograms-PAX_7/hypno_dmso_BL1.txt\"\n",
    "\n",
    "art['hyp_full'] = kd.load_hypnograms(subject, exp, \"dmso-bl\", art['espg'].datetime.values.min())\n",
    "art['hyp_2hr'] = ssu.load_hypno(p_2h, art['espg'].datetime.values.min())\n",
    "\n"
   ]
  },
  {
   "cell_type": "code",
   "execution_count": null,
   "metadata": {},
   "outputs": [],
   "source": [
    "b, s = kp.plot_bp_and_spectro()"
   ]
  }
 ],
 "metadata": {
  "interpreter": {
   "hash": "8b4e5f83c5c43fbba261d328a2df1f0567bfa5b389d8ccfa34ce3cfd2f216fff"
  },
  "kernelspec": {
   "display_name": "Python 3.9.7 64-bit ('ecephys_t2': conda)",
   "name": "python3"
  },
  "language_info": {
   "codemirror_mode": {
    "name": "ipython",
    "version": 3
   },
   "file_extension": ".py",
   "mimetype": "text/x-python",
   "name": "python",
   "nbconvert_exporter": "python",
   "pygments_lexer": "ipython3",
   "version": "3.9.7"
  },
  "orig_nbformat": 4
 },
 "nbformat": 4,
 "nbformat_minor": 2
}

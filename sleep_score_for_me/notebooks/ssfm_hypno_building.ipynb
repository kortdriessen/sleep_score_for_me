{
 "cells": [
  {
   "cell_type": "markdown",
   "metadata": {},
   "source": [
    "# SSFM Hypno Building"
   ]
  },
  {
   "cell_type": "markdown",
   "id": "51ed48dd",
   "metadata": {},
   "source": [
    "## Building a Toy Hypnogram"
   ]
  },
  {
   "cell_type": "markdown",
   "id": "37868684",
   "metadata": {},
   "source": [
    "First will get the logic working with a toy example:"
   ]
  },
  {
   "cell_type": "code",
   "execution_count": null,
   "id": "f659f853",
   "metadata": {},
   "outputs": [],
   "source": [
    "#Makes our toy dataframe:\n",
    "\n",
    "dti = pd.date_range(\"2020-01-01T09:00:12.00\", periods=100, freq=\"4S\")\n",
    "ex = pd.Series(np.random.randn(len(dti)), index=dti)\n",
    "ex = ex.to_frame(name='param1')\n",
    "ex['param2'] = np.random.randn(len(dti))\n",
    "ex['state'] = np.nan"
   ]
  },
  {
   "cell_type": "code",
   "execution_count": null,
   "id": "129b490b",
   "metadata": {},
   "outputs": [],
   "source": [
    "# This first assigns NREM based on a param1 threshold:\n",
    "ex.loc[ex.param1 >= 0, 'state'] = 'NREM'\n",
    "\n",
    "# This then assigns wake vs rem based on param2:\n",
    "ex.loc[np.logical_and(ex.param2 >=0, ex.state != 'NREM'), 'state'] = 'Wake'\n",
    "ex.loc[np.logical_and(ex.param2 <0, ex.state != 'NREM'), 'state'] = 'REM'"
   ]
  },
  {
   "cell_type": "markdown",
   "id": "00133791",
   "metadata": {},
   "source": [
    "- Now to build the hypnogram"
   ]
  },
  {
   "cell_type": "code",
   "execution_count": null,
   "id": "67da6aaf",
   "metadata": {},
   "outputs": [
    {
     "name": "stdout",
     "output_type": "stream",
     "text": [
      "passing indexing error\n",
      "passing indexing error\n",
      "passing indexing error\n"
     ]
    }
   ],
   "source": [
    "# First let's try a boolean series to get the NREM epocs:\n",
    "s1 = ex['state']\n",
    "bool1 = s1 == 'NREM'\n",
    "bool2 = s1 == 'Wake'\n",
    "bool3 = s1 == 'REM'\n",
    "\n",
    "# Then we can segment that boolean series: \n",
    "nrem_tups = starts_and_ends(bool1)\n",
    "wake_tups = starts_and_ends(bool2)\n",
    "rem_tups = starts_and_ends(bool3)"
   ]
  },
  {
   "cell_type": "code",
   "execution_count": null,
   "id": "2302a1ab",
   "metadata": {},
   "outputs": [],
   "source": [
    "# Then we make each boolean series into a partial-hypnogram:\n",
    "\n",
    "nrem_hyp = pd.DataFrame(columns = ['state', 'end_time', 'start_time', 'duration'])\n",
    "nrem_hyp[['start_time', 'end_time']] = nrem_tups\n",
    "nrem_hyp['duration'] = nrem_hyp.end_time - nrem_hyp.start_time\n",
    "nrem_hyp['state'] = 'NREM'\n",
    "\n",
    "wake_hyp = pd.DataFrame(columns = ['state', 'end_time', 'start_time', 'duration'])\n",
    "wake_hyp[['start_time', 'end_time']] = wake_tups\n",
    "wake_hyp['duration'] = wake_hyp.end_time - wake_hyp.start_time\n",
    "wake_hyp['state'] = 'Wake'\n",
    "\n",
    "rem_hyp = pd.DataFrame(columns = ['state', 'end_time', 'start_time', 'duration'])\n",
    "rem_hyp[['start_time', 'end_time']] = rem_tups\n",
    "rem_hyp['duration'] = rem_hyp.end_time - rem_hyp.start_time\n",
    "rem_hyp['state'] = 'REM'"
   ]
  },
  {
   "cell_type": "code",
   "execution_count": null,
   "id": "914856d4",
   "metadata": {},
   "outputs": [],
   "source": [
    "# Then we concatenate and sort:\n",
    "\n",
    "toy_hypno = pd.concat([nrem_hyp, wake_hyp, rem_hyp])\n",
    "toy_hypno = toy_hypno.sort_values('start_time')"
   ]
  },
  {
   "cell_type": "code",
   "execution_count": null,
   "id": "86e8c941",
   "metadata": {},
   "outputs": [
    {
     "data": {
      "application/vnd.jupyter.widget-view+json": {
       "model_id": "6f4d7244cb374035869c185406b99825",
       "version_major": 2,
       "version_minor": 0
      },
      "text/plain": [
       "Canvas(toolbar=Toolbar(toolitems=[('Home', 'Reset original view', 'home', 'home'), ('Back', 'Back to previous …"
      ]
     },
     "metadata": {},
     "output_type": "display_data"
    }
   ],
   "source": [
    "# And plot it:\n",
    "ax = plot_hypnogram_overlay(toy_hypno)"
   ]
  }
 ],
 "metadata": {
  "interpreter": {
   "hash": "8b4e5f83c5c43fbba261d328a2df1f0567bfa5b389d8ccfa34ce3cfd2f216fff"
  },
  "kernelspec": {
   "display_name": "Python 3.9.7 64-bit ('ecephys_t2': conda)",
   "language": "python",
   "name": "python3"
  },
  "language_info": {
   "name": "python",
   "version": "3.9.7"
  },
  "orig_nbformat": 4
 },
 "nbformat": 4,
 "nbformat_minor": 2
}

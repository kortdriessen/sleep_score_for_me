{
 "cells": [
  {
   "cell_type": "markdown",
   "metadata": {},
   "source": [
    "# SSFM VERSION-2"
   ]
  },
  {
   "cell_type": "markdown",
   "metadata": {},
   "source": [
    "## Misc stuff, not sure if useful."
   ]
  },
  {
   "cell_type": "code",
   "execution_count": null,
   "id": "66c17cd6",
   "metadata": {},
   "outputs": [],
   "source": [
    "dgr = ssfm['ebp_pd']['delta']/ssfm['ebp_pd']['high_gamma']\n",
    "dgr2 = dgr.xs(2, level='channel')"
   ]
  },
  {
   "cell_type": "code",
   "execution_count": null,
   "id": "21d4e6f2",
   "metadata": {},
   "outputs": [],
   "source": [
    "m1_omega = ssfm['mbp_pd']['omega']/1"
   ]
  },
  {
   "cell_type": "code",
   "execution_count": null,
   "id": "92efe5fb",
   "metadata": {},
   "outputs": [],
   "source": [
    "m1_omega = m1_omega.xs(1, level='channel')"
   ]
  },
  {
   "cell_type": "code",
   "execution_count": null,
   "id": "6f4e302f",
   "metadata": {},
   "outputs": [],
   "source": [
    "e2d = ssfm['ebp_pd']['delta'].xs(2, level='channel')\n",
    "e2g = ssfm['ebp_pd']['high_gamma'].xs(2, level='channel')\n",
    "m1o = ssfm['mbp_pd']['omega'].xs(1, level='channel')"
   ]
  },
  {
   "cell_type": "code",
   "execution_count": null,
   "id": "adc874a6",
   "metadata": {},
   "outputs": [],
   "source": [
    "sig_eeg2 = ssfm['ebp_pd']['sigma'].xs(2, level='channel')"
   ]
  },
  {
   "cell_type": "code",
   "execution_count": null,
   "id": "a11b0c80",
   "metadata": {},
   "outputs": [],
   "source": [
    "dgr_eeg2 = e2d/e2g\n",
    "der_eeg2 = e2d/m1o.values\n",
    "golden_ratio_ssfm = dgr_eeg2/m1o.values"
   ]
  },
  {
   "cell_type": "code",
   "execution_count": null,
   "id": "5386fe4c",
   "metadata": {},
   "outputs": [],
   "source": [
    "f, ax = plt.subplots(figsize=(15,5))\n",
    "ax = sns.lineplot(data=dgr2, ax=ax)"
   ]
  },
  {
   "cell_type": "code",
   "execution_count": null,
   "id": "0e821f4c",
   "metadata": {},
   "outputs": [],
   "source": [
    "f, ax = plt.subplots(figsize=(15,5))\n",
    "ax = sns.lineplot(data=golden_ratio_ssfm, ax=ax)"
   ]
  },
  {
   "cell_type": "code",
   "execution_count": null,
   "id": "44dd50a8",
   "metadata": {},
   "outputs": [],
   "source": [
    "%matplotlib widget \n",
    "ax = newgr.plot.hist(bins=1000)\n",
    "ax.set_xlim(0, 0.1)"
   ]
  },
  {
   "cell_type": "code",
   "execution_count": null,
   "id": "3f40eff5",
   "metadata": {},
   "outputs": [],
   "source": [
    "f, ax = plt.subplots(figsize=(15,5))\n",
    "ax = sns.lineplot(data=newgr, ax=ax)\n",
    "#ax.set_ylim(0, 0.2)"
   ]
  },
  {
   "cell_type": "code",
   "execution_count": null,
   "id": "1046dc68",
   "metadata": {},
   "outputs": [],
   "source": [
    "f, ax = plt.subplots(figsize=(15,5))\n",
    "ax = sns.lineplot(data=sig_eeg2, ax=ax)"
   ]
  },
  {
   "cell_type": "code",
   "execution_count": null,
   "id": "7500ef52",
   "metadata": {},
   "outputs": [],
   "source": [
    "spg = ssfm['espg']\n",
    "fig, axs = kp.plot_bp_set(spg, bp_def, hyp=ssfm['hyp_2hr'], channel=2, start_time=spg.datetime.min(), end_time=spg.datetime.max())"
   ]
  },
  {
   "cell_type": "code",
   "execution_count": null,
   "id": "1ce82faa",
   "metadata": {},
   "outputs": [],
   "source": [
    "muscle_bands = dict(zeta=(100, 200), omega=(1, 800), phi=(400,700), x=(100, 800))\n",
    "spg = ssfm['mspg']\n",
    "fig, axs = kp.plot_bp_set(spg, muscle_bands, hyp=None, channel=1, start_time=spg.datetime.min(), end_time=spg.datetime.max())"
   ]
  },
  {
   "cell_type": "code",
   "execution_count": null,
   "id": "5386fe4c",
   "metadata": {},
   "outputs": [],
   "source": [
    "f, ax = plt.subplots(figsize=(15,5))\n",
    "ax = sns.lineplot(data=ssfm['m'], ax=ax)"
   ]
  }
 ],
 "metadata": {
  "interpreter": {
   "hash": "8b4e5f83c5c43fbba261d328a2df1f0567bfa5b389d8ccfa34ce3cfd2f216fff"
  },
  "kernelspec": {
   "display_name": "Python 3.9.7 64-bit ('ecephys_t2': conda)",
   "language": "python",
   "name": "python3"
  },
  "language_info": {
   "name": "python",
   "version": "3.9.7"
  },
  "orig_nbformat": 4
 },
 "nbformat": 4,
 "nbformat_minor": 2
}
